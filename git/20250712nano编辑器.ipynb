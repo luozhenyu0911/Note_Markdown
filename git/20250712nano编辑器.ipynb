{
 "cells": [
  {
   "cell_type": "markdown",
   "metadata": {},
   "source": [
    "#### 1. ​​输入提交信息​​：\n",
    "- 在nano编辑器中（当前显示的是Git的提交消息编辑界面），输入本次提交的描述性消息（不能留空）。\n",
    "- 以#开头的行是注释，会被Git忽略。\n",
    "\n",
    "#### ​2. ​保存并退出nano​​：\n",
    "- 按 Ctrl + X 退出nano。\n",
    "- 按 Y 确认保存更改。\n",
    "- 按回车键确认文件名（默认是.git/COMMIT_EDITMSG，直接回车即可）。\n",
    "\n",
    "#### ​3.​完成提交​​：\n",
    "- 退出nano后，Git会自动使用您输入的消息完成提交。"
   ]
  },
  {
   "cell_type": "markdown",
   "metadata": {},
   "source": []
  }
 ],
 "metadata": {
  "language_info": {
   "name": "python"
  }
 },
 "nbformat": 4,
 "nbformat_minor": 2
}
