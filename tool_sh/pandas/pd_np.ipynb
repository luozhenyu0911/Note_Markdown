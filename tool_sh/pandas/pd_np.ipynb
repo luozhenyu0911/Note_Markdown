{
 "cells": [
  {
   "cell_type": "code",
   "execution_count": 1,
   "metadata": {},
   "outputs": [],
   "source": [
    "import pandas as pd\n",
    "import numpy as np"
   ]
  },
  {
   "cell_type": "code",
   "execution_count": null,
   "metadata": {},
   "outputs": [],
   "source": [
    "# 读取dataframe, 取目标列并命名\n",
    "pd.read_csv('', header=None, sep='\\t', names=['Count', 'SV_type'], usecols=[0, 1])"
   ]
  },
  {
   "cell_type": "code",
   "execution_count": 6,
   "metadata": {},
   "outputs": [
    {
     "name": "stdout",
     "output_type": "stream",
     "text": [
      "         date   A   B\n",
      "0  2022-01-01  10  20\n",
      "1  2022-01-02  30  40\n",
      "将宽框数据转换为长框数据\n",
      "         date variable  value\n",
      "0  2022-01-01        A     10\n",
      "1  2022-01-02        A     30\n",
      "2  2022-01-01        B     20\n",
      "3  2022-01-02        B     40\n",
      "         date variable  value\n",
      "0  2022-01-01        A     10\n",
      "1  2022-01-01        B     20\n",
      "2  2022-01-02        A     30\n",
      "3  2022-01-02        B     40\n",
      "将长框数据转换为宽框数据\n",
      "variable     A   B\n",
      "date              \n",
      "2022-01-01  10  20\n",
      "2022-01-02  30  40\n"
     ]
    }
   ],
   "source": [
    "# 长框变短框，短框变长框\n",
    "# 创建示例数据\n",
    "wide_data = {\n",
    "    'date': ['2022-01-01', '2022-01-02'],\n",
    "    'A': [10, 30],\n",
    "    'B': [20, 40]\n",
    "}\n",
    "df = pd.DataFrame(wide_data)\n",
    "print(df)\n",
    "print(\"将宽框数据转换为长框数据\")\n",
    "# 将宽框数据转换为长框数据\n",
    "long_df = df.melt(id_vars='date', var_name='variable', value_name='value')\n",
    "print(long_df)\n",
    "\n",
    "import pandas as pd\n",
    "\n",
    "# 创建示例数据\n",
    "data = {\n",
    "    'date': ['2022-01-01', '2022-01-01', '2022-01-02', '2022-01-02'],\n",
    "    'variable': ['A', 'B', 'A', 'B'],\n",
    "    'value': [10, 20, 30, 40]\n",
    "}\n",
    "df = pd.DataFrame(data)\n",
    "print(df)\n",
    "print(\"将长框数据转换为宽框数据\")\n",
    "# 将长框数据转换为宽框数据\n",
    "wide_df = df.pivot(index='date', columns='variable', values='value')\n",
    "print(wide_df)\n",
    "\n"
   ]
  },
  {
   "cell_type": "code",
   "execution_count": 10,
   "metadata": {},
   "outputs": [
    {
     "name": "stdout",
     "output_type": "stream",
     "text": [
      "  category  value\n",
      "0        A     10\n",
      "1        B     20\n",
      "2        A     30\n",
      "3        B     40\n",
      "4        A     50\n",
      "按 category 列进行分组，并对 value 列进行求和\n",
      "category\n",
      "A    90\n",
      "B    60\n",
      "Name: value, dtype: int64\n"
     ]
    }
   ],
   "source": [
    "import pandas as pd\n",
    "\n",
    "# 创建示例数据\n",
    "data = {\n",
    "    'category': ['A', 'B', 'A', 'B', 'A'],\n",
    "    'value': [10, 20, 30, 40, 50]\n",
    "}\n",
    "df = pd.DataFrame(data)\n",
    "print(df)\n",
    "print(\"按 category 列进行分组，并对 value 列进行求和\")\n",
    "# 按 category 列进行分组，并对 value 列进行求和\n",
    "result = df.groupby('category')['value'].sum()\n",
    "print(result)\n"
   ]
  },
  {
   "cell_type": "code",
   "execution_count": null,
   "metadata": {},
   "outputs": [],
   "source": [
    "pd.DataFrame(df1['region'].value_counts()/len(df1)*100).reset_index().rename(columns={'region':'region', \"count\":'percentage'})\n",
    "pd.pivot_table(sv_count,index=[\"type_depth\",\"SVtype\"],values=[\"Count\"],aggfunc=[np.mean,len])\n",
    "df1[\"Sample\"]=df1[\"Sample\"].str.replace(\"_pass_svtype\",' ')"
   ]
  },
  {
   "cell_type": "code",
   "execution_count": null,
   "metadata": {},
   "outputs": [],
   "source": [
    "# merge, concat\n",
    "pd.merge(sample_info, all_sample_svtype_count, how='inner', on='Sample')\n",
    "pd.concat([df1, df2], ignore_index=True)"
   ]
  },
  {
   "cell_type": "code",
   "execution_count": 8,
   "metadata": {},
   "outputs": [
    {
     "name": "stdout",
     "output_type": "stream",
     "text": [
      "  category  value\n",
      "0        A     10\n",
      "1        B     20\n",
      "2        A     30\n",
      "3        B     40\n",
      "4        A     50\n",
      "区间分组后\n",
      "value_range\n",
      "(0, 20]     2\n",
      "(20, 40]    2\n",
      "(40, 60]    1\n",
      "Name: count, dtype: int64\n"
     ]
    }
   ],
   "source": [
    "## 根据一列对另一列数值进行区间分组\n",
    "import pandas as pd\n",
    "\n",
    "# 创建示例数据\n",
    "data = {\n",
    "    'category': ['A', 'B', 'A', 'B', 'A'],\n",
    "    'value': [10, 20, 30, 40, 50]\n",
    "}\n",
    "df = pd.DataFrame(data)\n",
    "print(df)\n",
    "print(\"区间分组后\")\n",
    "# 根据 value 列的数值进行区间分组，并统计每个区间数值的出现次数\n",
    "bins = [0, 20, 40, 60]  # 定义区间边界\n",
    "df['value_range'] = pd.cut(df['value'], bins)  # 将 value 列的数值分到对应的区间\n",
    "result = df['value_range'].value_counts()  # 统计每个区间数值的出现次数\n",
    "print(result)\n"
   ]
  },
  {
   "cell_type": "code",
   "execution_count": null,
   "metadata": {},
   "outputs": [],
   "source": []
  }
 ],
 "metadata": {
  "kernelspec": {
   "display_name": "base",
   "language": "python",
   "name": "python3"
  },
  "language_info": {
   "codemirror_mode": {
    "name": "ipython",
    "version": 3
   },
   "file_extension": ".py",
   "mimetype": "text/x-python",
   "name": "python",
   "nbconvert_exporter": "python",
   "pygments_lexer": "ipython3",
   "version": "3.11.5"
  }
 },
 "nbformat": 4,
 "nbformat_minor": 2
}
