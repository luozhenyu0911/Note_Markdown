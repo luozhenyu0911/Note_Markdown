{
 "cells": [
  {
   "cell_type": "code",
   "execution_count": 1,
   "metadata": {},
   "outputs": [],
   "source": [
    "### pandas修改列名顺序\n",
    "\n",
    "import pandas as pd\n",
    "\n",
    "# 创建示例 DataFrame\n",
    "df = pd.DataFrame({\n",
    "    'A': [1, 2, 3],\n",
    "    'B': [4, 5, 6],\n",
    "    'C': [7, 8, 9]\n",
    "})\n",
    "\n",
    "\n",
    "######  m1  #############\n",
    "# 调整列顺序：C → A → B\n",
    "df = df[['C', 'A', 'B']]\n",
    "\n",
    "######  m2  #############\n",
    "# 使用 reindex 调整顺序\n",
    "new_order = ['B', 'C', 'A']\n",
    "df = df.reindex(columns=new_order)\n",
    "\n",
    "######  m2  #############\n",
    "# 调整列索引顺序：原索引 [0,1,2] → 新顺序 [2,0,1]（即 C→A→B）\n",
    "df = df.iloc[:, [2, 0, 1]]\n"
   ]
  },
  {
   "cell_type": "code",
   "execution_count": null,
   "metadata": {},
   "outputs": [],
   "source": [
    "### pandas 剔除某列中的NA值的所有行\n",
    "import pandas as pd\n",
    "import numpy as np\n",
    "\n",
    "# 创建示例 DataFrame\n",
    "data = {'A': [1, 2, np.nan, 4], \n",
    "        'B': [5, np.nan, 7, 8], \n",
    "        'C': [9, 10, 11, np.nan]}\n",
    "df = pd.DataFrame(data)\n",
    "\n",
    "# 删除列'A'中包含缺失值的行\n",
    "df_cleaned = df.dropna(subset=['A'])\n",
    "\n",
    "print(\"处理前：\\n\", df)\n",
    "print(\"\\n处理后：\\n\", df_cleaned)"
   ]
  },
  {
   "cell_type": "code",
   "execution_count": null,
   "metadata": {},
   "outputs": [],
   "source": [
    "### aplly 和 lambda 的组合用法\n",
    "child_pheno.loc[:, 'healthy'] = child_pheno.apply(\n",
    "    lambda x: 'healthy' if x['bd'] == 1 else 'unhealthy', axis=1\n",
    ")\n",
    "child_pheno.loc[:, 'HD'] = child_pheno.apply(\n",
    "    lambda x: 'HD' if \"先心\" in x['bd_detail'] else ('healthy' if x['bd'] == 1 else '其他默认值'),\n",
    "    axis=1\n",
    ")\n",
    "\n",
    "def classify_hd(row):\n",
    "    if \"先心\" in row['bd_detail']:\n",
    "        return 'HD'\n",
    "    elif row['bd'] == 1:\n",
    "        return 'healthy'\n",
    "    else:\n",
    "        return '其他默认值'\n",
    "\n",
    "child_pheno.loc[:, 'HD'] = child_pheno.apply(classify_hd, axis=1)\n",
    "\n",
    "import numpy as np\n",
    "child_pheno.loc[:, 'HD'] = np.where(\n",
    "    child_pheno['bd_detail'].str.contains(\"先心\", na=False),\n",
    "    'HD',\n",
    "    np.where(child_pheno['bd'] == 1, 'healthy', '其他默认值')\n",
    ")"
   ]
  },
  {
   "cell_type": "code",
   "execution_count": null,
   "metadata": {},
   "outputs": [],
   "source": [
    "### 理解groupby\n",
    "# 统计每个 Sample_name 样本MLC_pos_score的和\n",
    "result = grandmother_mlc.groupby('Sample_name')['MLC_pos_score'].sum()\n"
   ]
  },
  {
   "cell_type": "code",
   "execution_count": null,
   "metadata": {},
   "outputs": [],
   "source": [
    "### 正则表达式的替换\n",
    "pattern = re.compile(\"|\".join(map(re.escape, replace_dict.keys())))\n",
    "new_text = pattern.sub(lambda m: replace_dict[m.group()], lines)\n",
    "# re.escape​：对字典键（待替换词）中的特殊字符（如 *, $等）进行转义，确保它们作为普通字符匹配\n",
    "# ​|​：正则中的“或”逻辑，将字典所有键组合成一个模式，匹配任意一个键。例如，若字典为 {\"cat\": \"dog\", \"red\": \"blue\"}，则生成的正则模式为 cat|red\n",
    "# ​re.compile​：预编译正则表达式，提升多次匹配的性能\n"
   ]
  },
  {
   "cell_type": "code",
   "execution_count": null,
   "metadata": {},
   "outputs": [],
   "source": [
    "### pandas 多列合并\n",
    "pd.merge(df1, df2, left_on=['col1', 'col2'], right_on=['colA', 'colB'])"
   ]
  },
  {
   "cell_type": "code",
   "execution_count": 3,
   "metadata": {},
   "outputs": [],
   "source": [
    "# ### pandas统计数据框，根据Sample_name列中的元素统计strand列下var列中各元素所占的百分比\n",
    "import pandas as pd\n",
    "\n",
    "# 假设df是您的数据框\n",
    "# 以下是创建示例数据框的代码(基于您提供的表格数据)\n",
    "data = {\n",
    "    'Family_Index': [1, 1, 1, 1, 1],\n",
    "    'Sample_name': ['15102852TLL4A', '15102852UCL2A', '15031006M26BFF2A', \n",
    "                   '15031006M26BFF2A', '15031006M26BFF2A'],\n",
    "    'Tissue': ['Placenta', 'Umbilical cord', 'Maternal blood', \n",
    "              'Maternal blood', 'Maternal blood'],\n",
    "    'CHROM': ['chrM', 'chrM', 'chrM', 'chrM', 'chrM'],\n",
    "    'POS': [11002, 11002, 11002, 9545, 8618],\n",
    "    'strand': ['H', 'H', 'H', 'H', 'L'],\n",
    "    'var': ['T>C', 'T>C', 'T>C', 'T>C', 'T>C']\n",
    "}\n",
    "\n",
    "df = pd.DataFrame(data)\n",
    "\n",
    "# 统计每个样本中不同变异类型的百分比\n",
    "result = (df.groupby(['Sample_name', 'var', 'strand'])\n",
    "          .size()\n",
    "          .groupby(level=0)\n",
    "          .apply(lambda x: 100 * x / x.sum())\n",
    "          .reset_index(name='Percentage'))\n",
    "\n",
    "# 格式化百分比显示\n",
    "result['Percentage'] = result['Percentage'].round(2)\n",
    "\n",
    "print(result)"
   ]
  },
  {
   "cell_type": "code",
   "execution_count": null,
   "metadata": {},
   "outputs": [],
   "source": [
    "### python中list去掉第一个和最后一个元素\n",
    "original_list = [1, 2, 3, 4, 5]\n",
    "new_list = original_list[1:-1]  # 输出: [2, 3, 4]\n",
    "\n",
    "lst = [1, 2, 3, 4, 5]\n",
    "lst.pop(0)  # 删除第一个元素\n",
    "lst.pop()   # 删除最后一个元素（默认-1）\n",
    "\n",
    "lst = [1, 2, 3, 4, 5]\n",
    "del lst[0], lst[-1]  # 删除首尾元素\n",
    "print(lst)  # 输出: [2, 3, 4]"
   ]
  },
  {
   "cell_type": "code",
   "execution_count": null,
   "metadata": {},
   "outputs": [],
   "source": [
    "\n",
    "hd_res = hds.loc[hds['V1'].str.startswith('PC')]\n",
    "hd_res = hds.loc[hds['V1'].str.contains('^PC', regex=True, case=False)]\n",
    "### hd_res = hds.loc[hds['V1'].str.startswith('PC')]  这个python代码我想要删选多个字符开始的结果，\n",
    "# 筛选以'PC'或'AB'开头的行\n",
    "hd_res = hds.loc[hds['V1'].str.startswith(('PC', 'AB'))]\n",
    "\n",
    "import re\n",
    "# 使用正则表达式匹配以'PC'或'AB'开头的行\n",
    "pattern = r'^(PC|AB)'\n",
    "hd_res = hds.loc[hds['V1'].str.match(pattern)]\n"
   ]
  },
  {
   "cell_type": "code",
   "execution_count": null,
   "metadata": {},
   "outputs": [],
   "source": [
    "### pandas取指定列，在alist列表中如果数据框中存在alist中的列则取所有的，不存在则忽略\n",
    "\n",
    "import pandas as pd\n",
    "\n",
    "# 假设df为数据框，alist为预定义的列名列表\n",
    "existing_cols = [col for col in alist if col in df.columns]\n",
    "df_filtered = df[existing_cols]  # 仅选择存在的列\n",
    "\n",
    "df_filtered = df.filter(items=alist)  # 自动过滤不存在的列\n",
    "\n",
    "df_filtered = df.loc[:, df.columns.intersection(alist)]  # 交集筛选列"
   ]
  },
  {
   "cell_type": "code",
   "execution_count": null,
   "metadata": {},
   "outputs": [],
   "source": [
    "### pandas中数据框其余所有列与A列进行相关性分析\n",
    "corr_matrix = df.corr()  # 计算所有列的相关系数矩阵\n",
    "a_corr = corr_matrix['A']  # 提取其他列与'A'列的相关性"
   ]
  },
  {
   "cell_type": "code",
   "execution_count": null,
   "metadata": {},
   "outputs": [],
   "source": []
  }
 ],
 "metadata": {
  "kernelspec": {
   "display_name": "base",
   "language": "python",
   "name": "python3"
  },
  "language_info": {
   "codemirror_mode": {
    "name": "ipython",
    "version": 3
   },
   "file_extension": ".py",
   "mimetype": "text/x-python",
   "name": "python",
   "nbconvert_exporter": "python",
   "pygments_lexer": "ipython3",
   "version": "3.11.8"
  }
 },
 "nbformat": 4,
 "nbformat_minor": 2
}
