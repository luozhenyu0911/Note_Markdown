{
 "cells": [
  {
   "cell_type": "markdown",
   "metadata": {},
   "source": [
    "### 理解以下这个代码\n",
    "```python\n",
    "if (any(x in row[\"consequence\"] \n",
    "        for x in [\"missense\", \"non_coding_transcript\", \"intergenic\"])) \n",
    "        and not any(x in row[\"consequence\"] \n",
    "        for x in calculate_oe.oe_functions.more_severe_than_missense) \n",
    "```\n",
    "\n",
    "1. 功能​​：检查row[\"consequence\"]中是否包含以下任意一种类型：missense、non_coding_transcript、intergenic。\n",
    "\n",
    "优化：\n",
    "\n",
    "```python\n",
    "is_medium_impact = any(x in row[\"consequence\"] for x in [\"missense\", \"non_coding_transcript\", \"intergenic\"])\n",
    "is_not_severe = not any(x in row[\"consequence\"] for x in more_severe_than_missense)\n",
    "if is_medium_impact and is_not_severe:\n",
    "    # 执行操作\n",
    "```"
   ]
  },
  {
   "cell_type": "markdown",
   "metadata": {},
   "source": [
    "### 共享字典在不同进程间共享\n",
    "\n",
    "```python\n",
    "# initiate dictionaries, to be used in parallelized function\n",
    "\tmanager = mp.Manager()\n",
    "\tkmers = manager.dict()\n",
    "\tpool = mp.Pool(mp.cpu_count())\n",
    "\t\n",
    "\t# calculate oe ratios and CIs for every possible kmer\n",
    "\tfor position in list(range(1, 16570)):\n",
    "\t\tpool.apply_async(parallelize_kmers, args=(\n",
    "\t\t\tposition, kmer_length, lookup_dictionary, excluded_sites, fit_parameters, mitomap_loci, kmers))\n",
    "\tpool.close()  # close pool and let all the processes complete\n",
    "\tpool.join()  # postpones the execution of next line of code until all processes in the queue are done\n",
    "\t\n",
    "\t# using pd to assign percentile ranks to each kmer by their upper CI value\n",
    "\tdf = pd.DataFrame.from_dict(kmers, orient='index', columns=[\n",
    "\t\t'total_all', 'obs_max_het', 'exp_max_het', 'ratio_oe', 'lower_CI', 'upper_CI', 'loci', 'loci_type'])  为什么这里的返回值kmers，不用进行kmers.get()\n",
    "```\n",
    "\n",
    "- kmers 是通过 multiprocessing.Manager().dict() 创建的共享字典，用于在多个进程间传递数据。​​不需要使用 kmers.get() 的\n"
   ]
  },
  {
   "cell_type": "markdown",
   "metadata": {},
   "source": [
    "### pandas根据几列进行去重\n",
    "````python\n",
    "df.drop_duplicates(subset=['col1', 'col2'], keep='first', inplace=False, ignore_index=False)\n",
    "# 根据列'A'和'B'的组合去重\n",
    "df_unique = df.drop_duplicates(subset=['A', 'B'])\n",
    "````\n",
    "### 去重后保留某列的最大/最小值​​：\n",
    "````python\n",
    "# 按'年龄'排序后，保留每个'姓名'的最大年龄记录\n",
    "df_max = df.sort_values('年龄').drop_duplicates(subset=['姓名'], keep='last')\n",
    "````\n",
    "去重后行索引可能不连续，可通过reset_index(drop=True)重置"
   ]
  },
  {
   "cell_type": "markdown",
   "metadata": {},
   "source": [
    "### df2[df2['POS'].isin(df1_pos)]  这个取反怎么取？\n",
    "```python\n",
    "# 取反操作：筛选 df2 中 'POS' 列值不在 df1_pos 中的行\n",
    "df2_not_in_pos = df2[~df2['POS'].isin(df1_pos)]\n",
    "```"
   ]
  },
  {
   "cell_type": "markdown",
   "metadata": {},
   "source": [
    "### 强制转换为字符串类型​\n",
    "```python\n",
    "df1['POS_REF_ALT'] = df1['POS'].astype(str) + '_' + df1['REF'] + '_' + df1['ALT']\n",
    "\n",
    "# 使用 str.cat() 方法​​\n",
    "# Pandas 的字符串拼接方法，更高效且明确：\n",
    "df1['POS_REF_ALT'] = df1['POS'].astype(str).str.cat([df1['REF'], df1['ALT']], sep='_')\n",
    "\n",
    "# 使用 apply 函数​​\n",
    "# 灵活处理混合类型：\n",
    "df1['POS_REF_ALT'] = df1.apply(lambda x: f\"{x['POS']}_{x['REF']}_{x['ALT']}\", axis=1)\n",
    "\n",
    "# 对于大数据集，astype(str) 或 str.cat() 比 apply 更快\n",
    "```"
   ]
  },
  {
   "cell_type": "markdown",
   "metadata": {},
   "source": [
    "### 将list转为pandas数据框\n",
    "```python\n",
    "# 1. 一维列表转换为单列DataFrame​\n",
    "import pandas as pd\n",
    "my_list = [10, 20, 30, 40]\n",
    "df = pd.DataFrame(my_list, columns=['Column1'])  # 列名为'Column1'\n",
    "\n",
    "# 2. 二维列表转换为DataFrame​\n",
    "data = [[1, 'Alice', 25], [2, 'Bob', 30]]\n",
    "df = pd.DataFrame(data, columns=['ID', 'Name', 'Age'])  # 指定列名\n",
    "\n",
    "# 3. 字典列表转换为DataFrame​\n",
    "data = [{'ID': 1, 'Name': 'Alice', 'Age': 25}, {'ID': 2, 'Name': 'Bob', 'Age': 30}]\n",
    "df = pd.DataFrame(data)  # 自动识别列名\n",
    "\n",
    "# 4. 复杂嵌套结构的处理​\n",
    "data = [{'ID': 1, 'Details': {'Age': 25, 'City': 'NY'}}]\n",
    "flattened = [{'ID': item['ID'], **item['Details']} for item in data]\n",
    "df = pd.DataFrame(flattened)\n",
    "```"
   ]
  },
  {
   "cell_type": "markdown",
   "metadata": {},
   "source": [
    "### pandas删除cutoff列为NaN的所有行\n",
    "```python\n",
    "import pandas as pd\n",
    "\n",
    "# 根据图片数据创建DataFrame\n",
    "data = {\n",
    "    'CHROM': ['MT', 'MT', 'MT', 'MT', 'MT'],\n",
    "    'POS': [1, 1, 1, 2, 2],\n",
    "    'REF': ['G', 'G', 'G', 'A', 'A'],\n",
    "    'ALT': ['A', 'C', 'T', 'C', 'G'],\n",
    "    'type': ['SNV', 'SNV', 'SNV', 'SNV', 'SNV'],\n",
    "    'mean': [0.000013, 0.000010, 0.000029, 0.000026, 0.000018],\n",
    "    'sd': [0.000078, 0.000069, 0.000128, 0.000106, 0.000104],\n",
    "    'cutoff': [float('nan'), float('nan'), float('nan'), float('nan'), float('nan')],\n",
    "    'note': ['Not curated', 'Not curated', 'Not curated', 'Not curated', 'Not curated']\n",
    "}\n",
    "df = pd.DataFrame(data)\n",
    "\n",
    "# 删除cutoff为NaN的行\n",
    "df_cleaned = df.dropna(subset=['cutoff'])\n",
    "\n",
    "# 输出结果\n",
    "print(\"原始数据行数:\", len(df))\n",
    "print(\"清理后数据行数:\", len(df_cleaned))\n",
    "print(\"\\n清理后的DataFrame:\")\n",
    "print(df_cleaned)\n",
    "\n",
    "# 如果需要保留部分 NaN 行（例如仅删除全为 NaN 的行），可以修改为：\n",
    "df_cleaned = df.dropna(subset=['cutoff'], how='all')\n",
    "\n",
    "# 建议在实际数据中先检查 NaN 分布：\n",
    "print(df['cutoff'].isna().value_counts())\n",
    "\n"
   ]
  },
  {
   "cell_type": "markdown",
   "metadata": {},
   "source": []
  }
 ],
 "metadata": {
  "kernelspec": {
   "display_name": "base",
   "language": "python",
   "name": "python3"
  },
  "language_info": {
   "codemirror_mode": {
    "name": "ipython",
    "version": 3
   },
   "file_extension": ".py",
   "mimetype": "text/x-python",
   "name": "python",
   "nbconvert_exporter": "python",
   "pygments_lexer": "ipython3",
   "version": "3.11.8"
  }
 },
 "nbformat": 4,
 "nbformat_minor": 2
}
