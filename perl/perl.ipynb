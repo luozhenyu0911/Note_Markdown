{
 "cells": [
  {
   "cell_type": "markdown",
   "metadata": {},
   "source": [
    "## perl 模块缺失"
   ]
  },
  {
   "cell_type": "markdown",
   "metadata": {},
   "source": [
    "在conda 虚拟环境中\n",
    "报错：\n",
    "- Can't locate GD.pm in @INC (you may need to install the GD module)\n",
    "  \n",
    "解决：\n",
    "conda install perl-GD 或者先conda search GD 查看是否有GD包，如果有则安装，如果没有则先安装perl-GD包\n",
    "\n",
    "其他方法可以AI一下"
   ]
  }
 ],
 "metadata": {
  "language_info": {
   "name": "python"
  }
 },
 "nbformat": 4,
 "nbformat_minor": 2
}
