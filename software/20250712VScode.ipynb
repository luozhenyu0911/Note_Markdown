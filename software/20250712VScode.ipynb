{
 "cells": [
  {
   "cell_type": "markdown",
   "metadata": {},
   "source": [
    "### vscode自动将脚本中tab转为四个空格\n"
   ]
  },
  {
   "cell_type": "code",
   "execution_count": 8,
   "metadata": {},
   "outputs": [
    {
     "name": "stdout",
     "output_type": "stream",
     "text": [
      "Did not find a quant.json file, checking for older meta_info.json.\n"
     ]
    },
    {
     "ename": "OSError",
     "evalue": "Found no meta_info.json file either; cannot proceed.",
     "output_type": "error",
     "traceback": [
      "\u001b[31m---------------------------------------------------------------------------\u001b[39m",
      "\u001b[31mOSError\u001b[39m                                   Traceback (most recent call last)",
      "\u001b[36mCell\u001b[39m\u001b[36m \u001b[39m\u001b[32mIn[8]\u001b[39m\u001b[32m, line 4\u001b[39m\n\u001b[32m      1\u001b[39m \u001b[38;5;28;01mimport\u001b[39;00m\u001b[38;5;250m \u001b[39m\u001b[34;01mpyroe\u001b[39;00m\n\u001b[32m      3\u001b[39m quant_dir = \u001b[33m'\u001b[39m\u001b[33msimpleaf_quant/af_quant\u001b[39m\u001b[33m'\u001b[39m\n\u001b[32m----> \u001b[39m\u001b[32m4\u001b[39m adata_sa = \u001b[43mpyroe\u001b[49m\u001b[43m.\u001b[49m\u001b[43mload_fry\u001b[49m\u001b[43m(\u001b[49m\u001b[43mquant_dir\u001b[49m\u001b[43m)\u001b[49m\n",
      "\u001b[36mFile \u001b[39m\u001b[32m~/miniconda3/envs/af/lib/python3.12/site-packages/pyroe/load_fry.py:110\u001b[39m, in \u001b[36mload_fry\u001b[39m\u001b[34m(frydir, output_format, nonzero, quiet)\u001b[39m\n\u001b[32m    108\u001b[39m     \u001b[38;5;66;03m# if we don't find the old one either, then return None\u001b[39;00m\n\u001b[32m    109\u001b[39m     \u001b[38;5;28;01mif\u001b[39;00m \u001b[38;5;129;01mnot\u001b[39;00m os.path.exists(fpath):\n\u001b[32m--> \u001b[39m\u001b[32m110\u001b[39m         \u001b[38;5;28;01mraise\u001b[39;00m \u001b[38;5;167;01mIOError\u001b[39;00m(\u001b[33mf\u001b[39m\u001b[33m\"\u001b[39m\u001b[33mFound no \u001b[39m\u001b[38;5;132;01m{\u001b[39;00mmeta_info_files[\u001b[32m1\u001b[39m]\u001b[38;5;132;01m}\u001b[39;00m\u001b[33m file either; cannot proceed.\u001b[39m\u001b[33m\"\u001b[39m)\n\u001b[32m    112\u001b[39m \u001b[38;5;66;03m# if we got here then we had a valid json file, so\u001b[39;00m\n\u001b[32m    113\u001b[39m \u001b[38;5;66;03m# use it to get the number of genes, and if we are\u001b[39;00m\n\u001b[32m    114\u001b[39m \u001b[38;5;66;03m# in USA mode or not.\u001b[39;00m\n\u001b[32m    115\u001b[39m meta_info = json.load(\u001b[38;5;28mopen\u001b[39m(fpath))\n",
      "\u001b[31mOSError\u001b[39m: Found no meta_info.json file either; cannot proceed."
     ]
    }
   ],
   "source": [
    "import pyroe\n",
    "\n",
    "quant_dir = 'simpleaf_quant/af_quant'\n",
    "adata_sa = pyroe.load_fry(quant_dir)"
   ]
  },
  {
   "cell_type": "code",
   "execution_count": 5,
   "metadata": {},
   "outputs": [
    {
     "name": "stdout",
     "output_type": "stream",
     "text": [
      "Did not find a quant.json file, checking for older meta_info.json.\n"
     ]
    },
    {
     "ename": "OSError",
     "evalue": "Found no meta_info.json file either; cannot proceed.",
     "output_type": "error",
     "traceback": [
      "\u001b[31m---------------------------------------------------------------------------\u001b[39m",
      "\u001b[31mOSError\u001b[39m                                   Traceback (most recent call last)",
      "\u001b[36mCell\u001b[39m\u001b[36m \u001b[39m\u001b[32mIn[5]\u001b[39m\u001b[32m, line 4\u001b[39m\n\u001b[32m      1\u001b[39m \u001b[38;5;28;01mimport\u001b[39;00m\u001b[38;5;250m \u001b[39m\u001b[34;01mpyroe\u001b[39;00m\n\u001b[32m      3\u001b[39m quant_dir = \u001b[33m'\u001b[39m\u001b[33msimpleaf_quant/af_quant\u001b[39m\u001b[33m'\u001b[39m\n\u001b[32m----> \u001b[39m\u001b[32m4\u001b[39m adata_usa = \u001b[43mpyroe\u001b[49m\u001b[43m.\u001b[49m\u001b[43mload_fry\u001b[49m\u001b[43m(\u001b[49m\u001b[43mquant_dir\u001b[49m\u001b[43m,\u001b[49m\u001b[43m \u001b[49m\u001b[43moutput_format\u001b[49m\u001b[43m=\u001b[49m\u001b[43m{\u001b[49m\u001b[33;43m'\u001b[39;49m\u001b[33;43mX\u001b[39;49m\u001b[33;43m'\u001b[39;49m\u001b[43m \u001b[49m\u001b[43m:\u001b[49m\u001b[43m \u001b[49m\u001b[43m[\u001b[49m\u001b[33;43m'\u001b[39;49m\u001b[33;43mU\u001b[39;49m\u001b[33;43m'\u001b[39;49m\u001b[43m,\u001b[49m\u001b[33;43m'\u001b[39;49m\u001b[33;43mS\u001b[39;49m\u001b[33;43m'\u001b[39;49m\u001b[43m,\u001b[49m\u001b[33;43m'\u001b[39;49m\u001b[33;43mA\u001b[39;49m\u001b[33;43m'\u001b[39;49m\u001b[43m]\u001b[49m\u001b[43m}\u001b[49m\u001b[43m)\u001b[49m\n",
      "\u001b[36mFile \u001b[39m\u001b[32m~/miniconda3/envs/af/lib/python3.12/site-packages/pyroe/load_fry.py:110\u001b[39m, in \u001b[36mload_fry\u001b[39m\u001b[34m(frydir, output_format, nonzero, quiet)\u001b[39m\n\u001b[32m    108\u001b[39m     \u001b[38;5;66;03m# if we don't find the old one either, then return None\u001b[39;00m\n\u001b[32m    109\u001b[39m     \u001b[38;5;28;01mif\u001b[39;00m \u001b[38;5;129;01mnot\u001b[39;00m os.path.exists(fpath):\n\u001b[32m--> \u001b[39m\u001b[32m110\u001b[39m         \u001b[38;5;28;01mraise\u001b[39;00m \u001b[38;5;167;01mIOError\u001b[39;00m(\u001b[33mf\u001b[39m\u001b[33m\"\u001b[39m\u001b[33mFound no \u001b[39m\u001b[38;5;132;01m{\u001b[39;00mmeta_info_files[\u001b[32m1\u001b[39m]\u001b[38;5;132;01m}\u001b[39;00m\u001b[33m file either; cannot proceed.\u001b[39m\u001b[33m\"\u001b[39m)\n\u001b[32m    112\u001b[39m \u001b[38;5;66;03m# if we got here then we had a valid json file, so\u001b[39;00m\n\u001b[32m    113\u001b[39m \u001b[38;5;66;03m# use it to get the number of genes, and if we are\u001b[39;00m\n\u001b[32m    114\u001b[39m \u001b[38;5;66;03m# in USA mode or not.\u001b[39;00m\n\u001b[32m    115\u001b[39m meta_info = json.load(\u001b[38;5;28mopen\u001b[39m(fpath))\n",
      "\u001b[31mOSError\u001b[39m: Found no meta_info.json file either; cannot proceed."
     ]
    }
   ],
   "source": [
    "import pyroe\n",
    "\n",
    "quant_dir = 'simpleaf_quant/af_quant'\n",
    "adata_usa = pyroe.load_fry(quant_dir, output_format={'X' : ['U','S','A']})"
   ]
  }
 ],
 "metadata": {
  "kernelspec": {
   "display_name": "af",
   "language": "python",
   "name": "python3"
  },
  "language_info": {
   "codemirror_mode": {
    "name": "ipython",
    "version": 3
   },
   "file_extension": ".py",
   "mimetype": "text/x-python",
   "name": "python",
   "nbconvert_exporter": "python",
   "pygments_lexer": "ipython3",
   "version": "3.12.11"
  }
 },
 "nbformat": 4,
 "nbformat_minor": 2
}
