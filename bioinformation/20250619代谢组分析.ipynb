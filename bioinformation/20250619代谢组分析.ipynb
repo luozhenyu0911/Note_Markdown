{
 "cells": [
  {
   "cell_type": "code",
   "execution_count": null,
   "metadata": {
    "vscode": {
     "languageId": "plaintext"
    }
   },
   "outputs": [],
   "source": []
  },
  {
   "cell_type": "code",
   "execution_count": null,
   "metadata": {
    "vscode": {
     "languageId": "plaintext"
    }
   },
   "outputs": [],
   "source": []
  },
  {
   "cell_type": "markdown",
   "metadata": {},
   "source": [
    "### 2. 中介分析框架​​\n",
    "1.​方法学基础​​\n",
    "​- ​模型结构​​\n",
    "\n",
    "    ​​三变量关系​​：X（金属） → M（代谢通路/代谢物） → Y（MDI/PDI）。\n",
    "    ​​效应分解​​：总效应 = 直接效应（c'） + 间接效应（a*b）。\n",
    "\n",
    "2.​统计方法​​\n",
    "\n",
    "\n",
    "​​逐步回归法​​：检验路径系数a、b、c'的显著性（Baron & Kenny步骤）。\n",
    "​​Bootstrap法​​：通过重抽样（sims=2000）计算间接效应的非参数置信区间（推荐方法）。\n",
    "​​加权中介分析​​：对通路中的多代谢物赋予权重（PDM_1函数），解决共线性问题。\n",
    "\n",
    "​​结果解读​​\n",
    "\n",
    "​​完全中介​​：ACME显著且ADE不显著。\n",
    "​​部分中介​​：ACME和ADE均显著。\n",
    "​​敏感性分析​​：通过rho或R²检验混杂效应（如medsens函数）。\n",
    "\n",
    "​​应用场景​​\n",
    "\n",
    "​​多中介分析​​：通路分析（如Valine降解通路） vs. 单代谢物分析。\n",
    "​​控制混杂​​：模型中调整协变量（如教育程度、吸烟等）。\n",
    "​​软件实现​​：基于R的mediation包，支持多层数据（如学校/个体层次）。\n",
    "\n",
    "​​可视化与报告​​\n",
    "\n",
    "​​路径图​​：展示X→M→Y的系数（如ggplot2或mermaid）。\n",
    "​​表格输出​​：报告ACME、ADE、置信区间及中介占比（Prop. Mediated）。\n"
   ]
  }
 ],
 "metadata": {
  "language_info": {
   "name": "python"
  }
 },
 "nbformat": 4,
 "nbformat_minor": 2
}
