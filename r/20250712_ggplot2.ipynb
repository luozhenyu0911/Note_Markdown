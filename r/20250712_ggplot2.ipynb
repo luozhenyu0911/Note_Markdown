{
 "cells": [
  {
   "cell_type": "markdown",
   "metadata": {},
   "source": [
    "### ggplot2 添加颜色"
   ]
  },
  {
   "cell_type": "code",
   "execution_count": null,
   "metadata": {
    "vscode": {
     "languageId": "r"
    }
   },
   "outputs": [],
   "source": [
    "# 假设数据有2个分组（如\"A\"和\"B\"）\n",
    "scale_color_manual(values = c(\"A\" = \"red\", \"B\" = \"blue\"))  # 提供2种颜色"
   ]
  }
 ],
 "metadata": {
  "kernelspec": {
   "display_name": "R",
   "language": "R",
   "name": "ir"
  },
  "language_info": {
   "name": "R"
  }
 },
 "nbformat": 4,
 "nbformat_minor": 2
}
