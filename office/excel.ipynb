{
 "cells": [
  {
   "cell_type": "markdown",
   "metadata": {},
   "source": [
    "### excel 怎样一列字符加上另一列字符\n",
    "- 若需添加分隔符（如空格）：=A1 & \" \" & B1\n",
    "- 若需添加分隔符：=CONCATENATE(A1, \"-\", B1)"
   ]
  },
  {
   "cell_type": "markdown",
   "metadata": {},
   "source": []
  },
  {
   "cell_type": "markdown",
   "metadata": {},
   "source": []
  }
 ],
 "metadata": {
  "language_info": {
   "name": "python"
  }
 },
 "nbformat": 4,
 "nbformat_minor": 2
}
